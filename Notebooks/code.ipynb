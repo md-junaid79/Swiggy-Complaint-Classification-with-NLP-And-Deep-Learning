{
 "cells": [
  {
   "cell_type": "markdown",
   "id": "f90d6657",
   "metadata": {},
   "source": [
    "# ⚡Swiggy - Complaint Classification using Neural Networks and NLP "
   ]
  },
  {
   "cell_type": "code",
   "execution_count": 1,
   "id": "a57595c7",
   "metadata": {},
   "outputs": [
    {
     "name": "stderr",
     "output_type": "stream",
     "text": [
      "[nltk_data] Downloading package stopwords to\n",
      "[nltk_data]     C:\\Users\\junaid\\AppData\\Roaming\\nltk_data...\n",
      "[nltk_data]   Package stopwords is already up-to-date!\n",
      "[nltk_data] Downloading package wordnet to\n",
      "[nltk_data]     C:\\Users\\junaid\\AppData\\Roaming\\nltk_data...\n",
      "[nltk_data]   Package wordnet is already up-to-date!\n"
     ]
    },
    {
     "data": {
      "text/plain": [
       "True"
      ]
     },
     "execution_count": 1,
     "metadata": {},
     "output_type": "execute_result"
    }
   ],
   "source": [
    "# import libraries\n",
    "import time\n",
    "import numpy as np\n",
    "import pandas as pd\n",
    "import matplotlib.pyplot as plt\n",
    "import seaborn as sns\n",
    "import re\n",
    "import nltk\n",
    "from nltk import PorterStemmer\n",
    "from nltk import WordNetLemmatizer\n",
    "from nltk.corpus import stopwords\n",
    "from string import punctuation\n",
    "nltk.download('stopwords')\n",
    "nltk.download('wordnet')\n",
    "\n"
   ]
  },
  {
   "cell_type": "code",
   "execution_count": 2,
   "id": "4537c3cc",
   "metadata": {},
   "outputs": [
    {
     "data": {
      "application/vnd.microsoft.datawrangler.viewer.v0+json": {
       "columns": [
        {
         "name": "index",
         "rawType": "int64",
         "type": "integer"
        },
        {
         "name": "Complaint_ID",
         "rawType": "object",
         "type": "string"
        },
        {
         "name": "Complaint_Text",
         "rawType": "object",
         "type": "string"
        },
        {
         "name": "Category",
         "rawType": "object",
         "type": "string"
        }
       ],
       "ref": "111df6d2-4f7a-4e3c-8acf-b4b7df3430f3",
       "rows": [
        [
         "0",
         "SWG177101",
         "Wrong food delivered. The order doesn't match what I selected. Please ensure this doesn't happen again.",
         "Incorrect Order"
        ],
        [
         "1",
         "SWG245237",
         "This has happened multiple times. App crashes when trying to apply coupon codes. Please ensure this doesn't happen again.",
         "App Technical Issue"
        ],
        [
         "2",
         "SWG437902",
         "Delivery tracking shows wrong delivery executive details and location.",
         "Tracking Issue"
        ],
        [
         "3",
         "SWG970049",
         "Please resolve this issue immediately. Delivery person went to wrong address and food got cold. Please improve your service quality.",
         "Delivery Location Issue"
        ],
        [
         "4",
         "SWG701969",
         "This has happened multiple times. Delivery boy didn't wear mask and was very unprofessional in behavior.",
         "Delivery Executive Issue"
        ],
        [
         "5",
         "SWG237148",
         "This ruined my entire meal experience. No response from restaurant despite multiple attempts to contact.",
         "Non-Responsive Restaurant"
        ],
        [
         "6",
         "SWG756608",
         "This has happened multiple times. Technical issue with app login. Cannot access my account.",
         "App Technical Issue"
        ],
        [
         "7",
         "SWG161847",
         "Restaurant not picking up calls for order clarification. Please ensure this doesn't happen again.",
         "Non-Responsive Restaurant"
        ],
        [
         "8",
         "SWG866658",
         "Restaurant didn't follow special cooking instructions provided.",
         "Restaurant Service Issue"
        ],
        [
         "9",
         "SWG186709",
         "I expect better service from Swiggy. Restaurant didn't follow special cooking instructions provided.",
         "Restaurant Service Issue"
        ],
        [
         "10",
         "SWG512040",
         "Delivered food was cold and the packaging was not insulated properly. I hope this gets resolved soon.",
         "Cold Food Delivery"
        ],
        [
         "11",
         "SWG790266",
         "I want a full refund for this. The delivery executive was late and blamed me for the delay.",
         "Delivery Executive Issue"
        ],
        [
         "12",
         "SWG259072",
         "Food quality was very poor. Tasted stale and not fresh. Please improve your service quality.",
         "Food Quality Issue"
        ],
        [
         "13",
         "SWG593297",
         "Restaurant didn't follow special cooking instructions provided. Please take necessary action.",
         "Restaurant Service Issue"
        ],
        [
         "14",
         "SWG966859",
         "Please resolve this issue immediately. Delivery executive couldn't find my location despite clear instructions. This is really disappointing.",
         "Delivery Location Issue"
        ],
        [
         "15",
         "SWG456428",
         "Delivery executive couldn't find my location despite clear instructions.",
         "Delivery Location Issue"
        ],
        [
         "16",
         "SWG145934",
         "Cancelled my order after confirming it. Very disappointing experience. I am losing trust in Swiggy.",
         "Order Cancellation"
        ],
        [
         "17",
         "SWG706472",
         "Please resolve this issue immediately. Extremely late delivery. Ordered lunch and received at dinner time.",
         "Late Delivery"
        ],
        [
         "18",
         "SWG144648",
         "Please take immediate action. Valid coupon code showing as expired or invalid.",
         "Coupon/Offer Issue"
        ],
        [
         "19",
         "SWG960050",
         "Location detection not working in the app. Shows wrong address.",
         "App Technical Issue"
        ],
        [
         "20",
         "SWG972128",
         "I want a full refund for this. Extremely late delivery. Ordered lunch and received at dinner time. Please improve your service quality.",
         "Late Delivery"
        ],
        [
         "21",
         "SWG562976",
         "Customer support is not responding to my complaint emails.",
         "Professional Support Agent"
        ],
        [
         "22",
         "SWG442752",
         "This is very frustrating. Delivery address was incorrect in the system despite entering correctly.",
         "Delivery Location Issue"
        ],
        [
         "23",
         "SWG140983",
         "Valid coupon code showing as expired or invalid.",
         "Coupon/Offer Issue"
        ],
        [
         "24",
         "SWG898134",
         "Restaurant not picking up calls for order clarification. Please improve your service quality.",
         "Non-Responsive Restaurant"
        ],
        [
         "25",
         "SWG216276",
         "Order was cancelled by restaurant after 45 minutes. No explanation given.",
         "Order Cancellation"
        ],
        [
         "26",
         "SWG347411",
         "Incomplete order delivered. Missing main course items.",
         "Missing Items"
        ],
        [
         "27",
         "SWG792702",
         "Money debited but order not placed. Payment gateway issue. This needs immediate attention.",
         "Payment Issue"
        ],
        [
         "28",
         "SWG858693",
         "Coupon code expired suddenly while placing the order.",
         "Coupon/Offer Issue"
        ],
        [
         "29",
         "SWG867173",
         "Support team is not resolving my complaint properly.",
         "Professional Support Agent"
        ],
        [
         "30",
         "SWG889056",
         "Charged extra amount than the order total. Billing discrepancy. I want a proper explanation for this.",
         "Payment Issue"
        ],
        [
         "31",
         "SWG229054",
         "Order delivered 2 hours late. Very disappointing service. I am losing trust in Swiggy.",
         "Late Delivery"
        ],
        [
         "32",
         "SWG566339",
         "Delivered food was cold and the packaging was not insulated properly. I hope this gets resolved soon.",
         "Cold Food Delivery"
        ],
        [
         "33",
         "SWG242071",
         "This ruined my entire meal experience. Food arrived cold despite paying delivery charges. Very unsatisfied. This is really disappointing.",
         "Cold Food Delivery"
        ],
        [
         "34",
         "SWG335861",
         "Restaurant is not responding to calls regarding order modification.",
         "Non-Responsive Restaurant"
        ],
        [
         "35",
         "SWG409477",
         "Inconsistent order updates. Can't rely on the status information. I want a proper explanation for this.",
         "Inconsistent Order Status"
        ],
        [
         "36",
         "SWG384660",
         "Money debited but order not placed. Payment gateway issue. This is really disappointing.",
         "Payment Issue"
        ],
        [
         "37",
         "SWG346120",
         "Payment got stuck and amount debited without order confirmation. This is really disappointing.",
         "Payment Issue"
        ],
        [
         "38",
         "SWG705693",
         "Cancelled my order after confirming it. Very disappointing experience.",
         "Order Cancellation"
        ],
        [
         "39",
         "SWG250944",
         "Poor food quality with bad taste and smell. Seems like old ingredients used. This is really disappointing.",
         "Food Quality Issue"
        ],
        [
         "40",
         "SWG807835",
         "No response from restaurant despite multiple attempts to contact. Please take necessary action.",
         "Non-Responsive Restaurant"
        ],
        [
         "41",
         "SWG411919",
         "Refund not processed even after 7 working days of cancellation. I am losing trust in Swiggy.",
         "Refund Issue"
        ],
        [
         "42",
         "SWG821403",
         "Restaurant not picking up calls for order clarification. I hope this gets resolved soon.",
         "Non-Responsive Restaurant"
        ],
        [
         "43",
         "SWG932106",
         "This ruined my entire meal experience. No response from restaurant staff when trying to discuss order issues.",
         "Non-Responsive Restaurant"
        ],
        [
         "44",
         "SWG415761",
         "Customer support is not responding to my complaint emails.",
         "Professional Support Agent"
        ],
        [
         "45",
         "SWG820126",
         "Extremely late delivery. Ordered lunch and received at dinner time.",
         "Late Delivery"
        ],
        [
         "46",
         "SWG329412",
         "Customer support is not responding to my complaint emails.",
         "Professional Support Agent"
        ],
        [
         "47",
         "SWG792792",
         "Money debited but order not placed. Payment gateway issue.",
         "Payment Issue"
        ],
        [
         "48",
         "SWG166761",
         "App freezes every time I try to add items to cart. Please improve your service quality.",
         "App Technical Issue"
        ],
        [
         "49",
         "SWG304102",
         "Restaurant service quality has declined significantly over time. Please take necessary action.",
         "Restaurant Service Issue"
        ]
       ],
       "shape": {
        "columns": 3,
        "rows": 4500
       }
      },
      "text/html": [
       "<div>\n",
       "<style scoped>\n",
       "    .dataframe tbody tr th:only-of-type {\n",
       "        vertical-align: middle;\n",
       "    }\n",
       "\n",
       "    .dataframe tbody tr th {\n",
       "        vertical-align: top;\n",
       "    }\n",
       "\n",
       "    .dataframe thead th {\n",
       "        text-align: right;\n",
       "    }\n",
       "</style>\n",
       "<table border=\"1\" class=\"dataframe\">\n",
       "  <thead>\n",
       "    <tr style=\"text-align: right;\">\n",
       "      <th></th>\n",
       "      <th>Complaint_ID</th>\n",
       "      <th>Complaint_Text</th>\n",
       "      <th>Category</th>\n",
       "    </tr>\n",
       "  </thead>\n",
       "  <tbody>\n",
       "    <tr>\n",
       "      <th>0</th>\n",
       "      <td>SWG177101</td>\n",
       "      <td>Wrong food delivered. The order doesn't match ...</td>\n",
       "      <td>Incorrect Order</td>\n",
       "    </tr>\n",
       "    <tr>\n",
       "      <th>1</th>\n",
       "      <td>SWG245237</td>\n",
       "      <td>This has happened multiple times. App crashes ...</td>\n",
       "      <td>App Technical Issue</td>\n",
       "    </tr>\n",
       "    <tr>\n",
       "      <th>2</th>\n",
       "      <td>SWG437902</td>\n",
       "      <td>Delivery tracking shows wrong delivery executi...</td>\n",
       "      <td>Tracking Issue</td>\n",
       "    </tr>\n",
       "    <tr>\n",
       "      <th>3</th>\n",
       "      <td>SWG970049</td>\n",
       "      <td>Please resolve this issue immediately. Deliver...</td>\n",
       "      <td>Delivery Location Issue</td>\n",
       "    </tr>\n",
       "    <tr>\n",
       "      <th>4</th>\n",
       "      <td>SWG701969</td>\n",
       "      <td>This has happened multiple times. Delivery boy...</td>\n",
       "      <td>Delivery Executive Issue</td>\n",
       "    </tr>\n",
       "    <tr>\n",
       "      <th>...</th>\n",
       "      <td>...</td>\n",
       "      <td>...</td>\n",
       "      <td>...</td>\n",
       "    </tr>\n",
       "    <tr>\n",
       "      <th>4495</th>\n",
       "      <td>SWG911630</td>\n",
       "      <td>This ruined my entire meal experience. Status ...</td>\n",
       "      <td>Inconsistent Order Status</td>\n",
       "    </tr>\n",
       "    <tr>\n",
       "      <th>4496</th>\n",
       "      <td>SWG514739</td>\n",
       "      <td>This is unacceptable. Charged extra amount tha...</td>\n",
       "      <td>Payment Issue</td>\n",
       "    </tr>\n",
       "    <tr>\n",
       "      <th>4497</th>\n",
       "      <td>SWG847016</td>\n",
       "      <td>Please resolve this issue immediately. App cra...</td>\n",
       "      <td>App Technical Issue</td>\n",
       "    </tr>\n",
       "    <tr>\n",
       "      <th>4498</th>\n",
       "      <td>SWG397846</td>\n",
       "      <td>Please take immediate action. Restaurant cance...</td>\n",
       "      <td>Order Cancellation</td>\n",
       "    </tr>\n",
       "    <tr>\n",
       "      <th>4499</th>\n",
       "      <td>SWG865285</td>\n",
       "      <td>This is unacceptable. Offer not applied correc...</td>\n",
       "      <td>Coupon/Offer Issue</td>\n",
       "    </tr>\n",
       "  </tbody>\n",
       "</table>\n",
       "<p>4500 rows × 3 columns</p>\n",
       "</div>"
      ],
      "text/plain": [
       "     Complaint_ID                                     Complaint_Text  \\\n",
       "0       SWG177101  Wrong food delivered. The order doesn't match ...   \n",
       "1       SWG245237  This has happened multiple times. App crashes ...   \n",
       "2       SWG437902  Delivery tracking shows wrong delivery executi...   \n",
       "3       SWG970049  Please resolve this issue immediately. Deliver...   \n",
       "4       SWG701969  This has happened multiple times. Delivery boy...   \n",
       "...           ...                                                ...   \n",
       "4495    SWG911630  This ruined my entire meal experience. Status ...   \n",
       "4496    SWG514739  This is unacceptable. Charged extra amount tha...   \n",
       "4497    SWG847016  Please resolve this issue immediately. App cra...   \n",
       "4498    SWG397846  Please take immediate action. Restaurant cance...   \n",
       "4499    SWG865285  This is unacceptable. Offer not applied correc...   \n",
       "\n",
       "                       Category  \n",
       "0               Incorrect Order  \n",
       "1           App Technical Issue  \n",
       "2                Tracking Issue  \n",
       "3       Delivery Location Issue  \n",
       "4      Delivery Executive Issue  \n",
       "...                         ...  \n",
       "4495  Inconsistent Order Status  \n",
       "4496              Payment Issue  \n",
       "4497        App Technical Issue  \n",
       "4498         Order Cancellation  \n",
       "4499         Coupon/Offer Issue  \n",
       "\n",
       "[4500 rows x 3 columns]"
      ]
     },
     "execution_count": 2,
     "metadata": {},
     "output_type": "execute_result"
    }
   ],
   "source": [
    "# load dataset\n",
    "\n",
    "df=pd.read_csv(r'D:\\GRADIOUS\\PROJECT\\DL & NLP Swiggy - Complaint Classification PROJECT\\swiggy_complaint_dataset.csv')\n",
    "df"
   ]
  },
  {
   "cell_type": "markdown",
   "id": "7012af99",
   "metadata": {},
   "source": [
    "### EDA   "
   ]
  },
  {
   "cell_type": "code",
   "execution_count": 3,
   "id": "889c2705",
   "metadata": {},
   "outputs": [
    {
     "name": "stdout",
     "output_type": "stream",
     "text": [
      "<class 'pandas.core.frame.DataFrame'>\n",
      "RangeIndex: 4500 entries, 0 to 4499\n",
      "Data columns (total 3 columns):\n",
      " #   Column          Non-Null Count  Dtype \n",
      "---  ------          --------------  ----- \n",
      " 0   Complaint_ID    4500 non-null   object\n",
      " 1   Complaint_Text  4500 non-null   object\n",
      " 2   Category        4500 non-null   object\n",
      "dtypes: object(3)\n",
      "memory usage: 105.6+ KB\n"
     ]
    }
   ],
   "source": [
    "df.info()"
   ]
  },
  {
   "cell_type": "code",
   "execution_count": 4,
   "id": "bb53e89f",
   "metadata": {},
   "outputs": [
    {
     "data": {
      "application/vnd.microsoft.datawrangler.viewer.v0+json": {
       "columns": [
        {
         "name": "index",
         "rawType": "object",
         "type": "string"
        },
        {
         "name": "0",
         "rawType": "int64",
         "type": "integer"
        }
       ],
       "ref": "4fd01d77-bc2a-4e54-ae56-88f84e561ea5",
       "rows": [
        [
         "Complaint_ID",
         "0"
        ],
        [
         "Complaint_Text",
         "0"
        ],
        [
         "Category",
         "0"
        ]
       ],
       "shape": {
        "columns": 1,
        "rows": 3
       }
      },
      "text/plain": [
       "Complaint_ID      0\n",
       "Complaint_Text    0\n",
       "Category          0\n",
       "dtype: int64"
      ]
     },
     "execution_count": 4,
     "metadata": {},
     "output_type": "execute_result"
    }
   ],
   "source": [
    "df.isnull().sum()"
   ]
  },
  {
   "cell_type": "code",
   "execution_count": 5,
   "id": "99d71c91",
   "metadata": {},
   "outputs": [
    {
     "data": {
      "text/plain": [
       "np.int64(2361)"
      ]
     },
     "execution_count": 5,
     "metadata": {},
     "output_type": "execute_result"
    }
   ],
   "source": [
    "df['Complaint_Text'].duplicated().sum()"
   ]
  },
  {
   "cell_type": "code",
   "execution_count": 6,
   "id": "0f13e34b",
   "metadata": {},
   "outputs": [
    {
     "data": {
      "text/plain": [
       "2139"
      ]
     },
     "execution_count": 6,
     "metadata": {},
     "output_type": "execute_result"
    }
   ],
   "source": [
    "df['Complaint_Text'].nunique()"
   ]
  },
  {
   "cell_type": "code",
   "execution_count": 7,
   "id": "82b5fb3f",
   "metadata": {},
   "outputs": [
    {
     "data": {
      "application/vnd.microsoft.datawrangler.viewer.v0+json": {
       "columns": [
        {
         "name": "Category",
         "rawType": "object",
         "type": "string"
        },
        {
         "name": "count",
         "rawType": "int64",
         "type": "integer"
        }
       ],
       "ref": "aa1146bf-f7c8-4075-bfc0-47858fcde381",
       "rows": [
        [
         "Incorrect Order",
         "250"
        ],
        [
         "App Technical Issue",
         "250"
        ],
        [
         "Tracking Issue",
         "250"
        ],
        [
         "Delivery Location Issue",
         "250"
        ],
        [
         "Delivery Executive Issue",
         "250"
        ],
        [
         "Non-Responsive Restaurant",
         "250"
        ],
        [
         "Restaurant Service Issue",
         "250"
        ],
        [
         "Cold Food Delivery",
         "250"
        ],
        [
         "Food Quality Issue",
         "250"
        ],
        [
         "Order Cancellation",
         "250"
        ],
        [
         "Late Delivery",
         "250"
        ],
        [
         "Coupon/Offer Issue",
         "250"
        ],
        [
         "Professional Support Agent",
         "250"
        ],
        [
         "Missing Items",
         "250"
        ],
        [
         "Payment Issue",
         "250"
        ],
        [
         "Inconsistent Order Status",
         "250"
        ],
        [
         "Refund Issue",
         "250"
        ],
        [
         "Unhygienic Packaging",
         "250"
        ]
       ],
       "shape": {
        "columns": 1,
        "rows": 18
       }
      },
      "text/plain": [
       "Category\n",
       "Incorrect Order               250\n",
       "App Technical Issue           250\n",
       "Tracking Issue                250\n",
       "Delivery Location Issue       250\n",
       "Delivery Executive Issue      250\n",
       "Non-Responsive Restaurant     250\n",
       "Restaurant Service Issue      250\n",
       "Cold Food Delivery            250\n",
       "Food Quality Issue            250\n",
       "Order Cancellation            250\n",
       "Late Delivery                 250\n",
       "Coupon/Offer Issue            250\n",
       "Professional Support Agent    250\n",
       "Missing Items                 250\n",
       "Payment Issue                 250\n",
       "Inconsistent Order Status     250\n",
       "Refund Issue                  250\n",
       "Unhygienic Packaging          250\n",
       "Name: count, dtype: int64"
      ]
     },
     "execution_count": 7,
     "metadata": {},
     "output_type": "execute_result"
    }
   ],
   "source": [
    "df['Category'].value_counts()"
   ]
  },
  {
   "cell_type": "code",
   "execution_count": 8,
   "id": "54793349",
   "metadata": {},
   "outputs": [
    {
     "data": {
      "image/png": "[encoded data removed]",
      "text/plain": [
       "<Figure size 1000x500 with 1 Axes>"
      ]
     },
     "metadata": {},
     "output_type": "display_data"
    }
   ],
   "source": [
    "df['Category'].value_counts().plot(kind='bar', figsize=(10, 5))\n",
    "plt.title('Distribution of Complaint Categories')\n",
    "plt.xlabel('Category')\n",
    "plt.ylabel('Count')\n",
    "plt.show()"
   ]
  },
  {
   "cell_type": "code",
   "execution_count": 9,
   "id": "b85371f6",
   "metadata": {},
   "outputs": [
    {
     "data": {
      "application/vnd.microsoft.datawrangler.viewer.v0+json": {
       "columns": [
        {
         "name": "index",
         "rawType": "int64",
         "type": "integer"
        },
        {
         "name": "Complaint_ID",
         "rawType": "object",
         "type": "string"
        },
        {
         "name": "Complaint_Text",
         "rawType": "object",
         "type": "string"
        },
        {
         "name": "Category",
         "rawType": "object",
         "type": "string"
        },
        {
         "name": "Complaint Text length",
         "rawType": "int64",
         "type": "integer"
        }
       ],
       "ref": "cf19bd2d-0bc7-463d-97de-8345467d0468",
       "rows": [
        [
         "0",
         "SWG177101",
         "Wrong food delivered. The order doesn't match what I selected. Please ensure this doesn't happen again.",
         "Incorrect Order",
         "88"
        ],
        [
         "1",
         "SWG245237",
         "This has happened multiple times. App crashes when trying to apply coupon codes. Please ensure this doesn't happen again.",
         "App Technical Issue",
         "103"
        ],
        [
         "2",
         "SWG437902",
         "Delivery tracking shows wrong delivery executive details and location.",
         "Tracking Issue",
         "62"
        ],
        [
         "3",
         "SWG970049",
         "Please resolve this issue immediately. Delivery person went to wrong address and food got cold. Please improve your service quality.",
         "Delivery Location Issue",
         "113"
        ],
        [
         "4",
         "SWG701969",
         "This has happened multiple times. Delivery boy didn't wear mask and was very unprofessional in behavior.",
         "Delivery Executive Issue",
         "89"
        ]
       ],
       "shape": {
        "columns": 4,
        "rows": 5
       }
      },
      "text/html": [
       "<div>\n",
       "<style scoped>\n",
       "    .dataframe tbody tr th:only-of-type {\n",
       "        vertical-align: middle;\n",
       "    }\n",
       "\n",
       "    .dataframe tbody tr th {\n",
       "        vertical-align: top;\n",
       "    }\n",
       "\n",
       "    .dataframe thead th {\n",
       "        text-align: right;\n",
       "    }\n",
       "</style>\n",
       "<table border=\"1\" class=\"dataframe\">\n",
       "  <thead>\n",
       "    <tr style=\"text-align: right;\">\n",
       "      <th></th>\n",
       "      <th>Complaint_ID</th>\n",
       "      <th>Complaint_Text</th>\n",
       "      <th>Category</th>\n",
       "      <th>Complaint Text length</th>\n",
       "    </tr>\n",
       "  </thead>\n",
       "  <tbody>\n",
       "    <tr>\n",
       "      <th>0</th>\n",
       "      <td>SWG177101</td>\n",
       "      <td>Wrong food delivered. The order doesn't match ...</td>\n",
       "      <td>Incorrect Order</td>\n",
       "      <td>88</td>\n",
       "    </tr>\n",
       "    <tr>\n",
       "      <th>1</th>\n",
       "      <td>SWG245237</td>\n",
       "      <td>This has happened multiple times. App crashes ...</td>\n",
       "      <td>App Technical Issue</td>\n",
       "      <td>103</td>\n",
       "    </tr>\n",
       "    <tr>\n",
       "      <th>2</th>\n",
       "      <td>SWG437902</td>\n",
       "      <td>Delivery tracking shows wrong delivery executi...</td>\n",
       "      <td>Tracking Issue</td>\n",
       "      <td>62</td>\n",
       "    </tr>\n",
       "    <tr>\n",
       "      <th>3</th>\n",
       "      <td>SWG970049</td>\n",
       "      <td>Please resolve this issue immediately. Deliver...</td>\n",
       "      <td>Delivery Location Issue</td>\n",
       "      <td>113</td>\n",
       "    </tr>\n",
       "    <tr>\n",
       "      <th>4</th>\n",
       "      <td>SWG701969</td>\n",
       "      <td>This has happened multiple times. Delivery boy...</td>\n",
       "      <td>Delivery Executive Issue</td>\n",
       "      <td>89</td>\n",
       "    </tr>\n",
       "  </tbody>\n",
       "</table>\n",
       "</div>"
      ],
      "text/plain": [
       "  Complaint_ID                                     Complaint_Text  \\\n",
       "0    SWG177101  Wrong food delivered. The order doesn't match ...   \n",
       "1    SWG245237  This has happened multiple times. App crashes ...   \n",
       "2    SWG437902  Delivery tracking shows wrong delivery executi...   \n",
       "3    SWG970049  Please resolve this issue immediately. Deliver...   \n",
       "4    SWG701969  This has happened multiple times. Delivery boy...   \n",
       "\n",
       "                   Category  Complaint Text length  \n",
       "0           Incorrect Order                     88  \n",
       "1       App Technical Issue                    103  \n",
       "2            Tracking Issue                     62  \n",
       "3   Delivery Location Issue                    113  \n",
       "4  Delivery Executive Issue                     89  "
      ]
     },
     "execution_count": 9,
     "metadata": {},
     "output_type": "execute_result"
    }
   ],
   "source": [
    "# Feature Engineering\n",
    "\n",
    "def count_len(text):\n",
    "    return len(text)-text.count(\" \")\n",
    "df['Complaint Text length']=df['Complaint_Text'].apply(lambda x : count_len(x))\n",
    "df.head()"
   ]
  },
  {
   "cell_type": "markdown",
   "id": "f8caef3b",
   "metadata": {},
   "source": [
    "### Text Cleaning "
   ]
  },
  {
   "cell_type": "code",
   "execution_count": 10,
   "id": "e59752b4",
   "metadata": {},
   "outputs": [],
   "source": [
    "## preprocessing\n",
    "\n",
    "def data_pre_processing(text):\n",
    "    text = \"\".join([char for char in text if char not in punctuation]) ## Remove punctuation\n",
    "    text = re.split(\" \",text.lower())                                   ## Tokenize\n",
    "    text = [word for word in text if word not in stopwords.words('english')] ## Remove Stopwords\n",
    "    text = [WordNetLemmatizer().lemmatize(word) for word in text]           ## Lemmatize the words\n",
    "    return text"
   ]
  },
  {
   "cell_type": "code",
   "execution_count": 11,
   "id": "e0c0bb1e",
   "metadata": {},
   "outputs": [
    {
     "name": "stdout",
     "output_type": "stream",
     "text": [
      "CPU times: total: 15.8 s\n",
      "Wall time: 15.8 s\n"
     ]
    },
    {
     "data": {
      "application/vnd.microsoft.datawrangler.viewer.v0+json": {
       "columns": [
        {
         "name": "index",
         "rawType": "int64",
         "type": "integer"
        },
        {
         "name": "Complaint_Text",
         "rawType": "object",
         "type": "string"
        },
        {
         "name": "cleaned_complaint",
         "rawType": "object",
         "type": "unknown"
        }
       ],
       "ref": "d0e46940-8fb2-478b-a762-9570f43452b2",
       "rows": [
        [
         "0",
         "Wrong food delivered. The order doesn't match what I selected. Please ensure this doesn't happen again.",
         "['wrong', 'food', 'delivered', 'order', 'doesnt', 'match', 'selected', 'please', 'ensure', 'doesnt', 'happen']"
        ],
        [
         "1",
         "This has happened multiple times. App crashes when trying to apply coupon codes. Please ensure this doesn't happen again.",
         "['happened', 'multiple', 'time', 'app', 'crash', 'trying', 'apply', 'coupon', 'code', 'please', 'ensure', 'doesnt', 'happen']"
        ],
        [
         "2",
         "Delivery tracking shows wrong delivery executive details and location.",
         "['delivery', 'tracking', 'show', 'wrong', 'delivery', 'executive', 'detail', 'location']"
        ],
        [
         "3",
         "Please resolve this issue immediately. Delivery person went to wrong address and food got cold. Please improve your service quality.",
         "['please', 'resolve', 'issue', 'immediately', 'delivery', 'person', 'went', 'wrong', 'address', 'food', 'got', 'cold', 'please', 'improve', 'service', 'quality']"
        ],
        [
         "4",
         "This has happened multiple times. Delivery boy didn't wear mask and was very unprofessional in behavior.",
         "['happened', 'multiple', 'time', 'delivery', 'boy', 'didnt', 'wear', 'mask', 'unprofessional', 'behavior']"
        ]
       ],
       "shape": {
        "columns": 2,
        "rows": 5
       }
      },
      "text/html": [
       "<div>\n",
       "<style scoped>\n",
       "    .dataframe tbody tr th:only-of-type {\n",
       "        vertical-align: middle;\n",
       "    }\n",
       "\n",
       "    .dataframe tbody tr th {\n",
       "        vertical-align: top;\n",
       "    }\n",
       "\n",
       "    .dataframe thead th {\n",
       "        text-align: right;\n",
       "    }\n",
       "</style>\n",
       "<table border=\"1\" class=\"dataframe\">\n",
       "  <thead>\n",
       "    <tr style=\"text-align: right;\">\n",
       "      <th></th>\n",
       "      <th>Complaint_Text</th>\n",
       "      <th>cleaned_complaint</th>\n",
       "    </tr>\n",
       "  </thead>\n",
       "  <tbody>\n",
       "    <tr>\n",
       "      <th>0</th>\n",
       "      <td>Wrong food delivered. The order doesn't match ...</td>\n",
       "      <td>[wrong, food, delivered, order, doesnt, match,...</td>\n",
       "    </tr>\n",
       "    <tr>\n",
       "      <th>1</th>\n",
       "      <td>This has happened multiple times. App crashes ...</td>\n",
       "      <td>[happened, multiple, time, app, crash, trying,...</td>\n",
       "    </tr>\n",
       "    <tr>\n",
       "      <th>2</th>\n",
       "      <td>Delivery tracking shows wrong delivery executi...</td>\n",
       "      <td>[delivery, tracking, show, wrong, delivery, ex...</td>\n",
       "    </tr>\n",
       "    <tr>\n",
       "      <th>3</th>\n",
       "      <td>Please resolve this issue immediately. Deliver...</td>\n",
       "      <td>[please, resolve, issue, immediately, delivery...</td>\n",
       "    </tr>\n",
       "    <tr>\n",
       "      <th>4</th>\n",
       "      <td>This has happened multiple times. Delivery boy...</td>\n",
       "      <td>[happened, multiple, time, delivery, boy, didn...</td>\n",
       "    </tr>\n",
       "  </tbody>\n",
       "</table>\n",
       "</div>"
      ],
      "text/plain": [
       "                                      Complaint_Text  \\\n",
       "0  Wrong food delivered. The order doesn't match ...   \n",
       "1  This has happened multiple times. App crashes ...   \n",
       "2  Delivery tracking shows wrong delivery executi...   \n",
       "3  Please resolve this issue immediately. Deliver...   \n",
       "4  This has happened multiple times. Delivery boy...   \n",
       "\n",
       "                                   cleaned_complaint  \n",
       "0  [wrong, food, delivered, order, doesnt, match,...  \n",
       "1  [happened, multiple, time, app, crash, trying,...  \n",
       "2  [delivery, tracking, show, wrong, delivery, ex...  \n",
       "3  [please, resolve, issue, immediately, delivery...  \n",
       "4  [happened, multiple, time, delivery, boy, didn...  "
      ]
     },
     "execution_count": 11,
     "metadata": {},
     "output_type": "execute_result"
    }
   ],
   "source": [
    "%%time\n",
    "df['cleaned_complaint']=df['Complaint_Text'].apply(lambda x : data_pre_processing(x))\n",
    "df[['Complaint_Text', 'cleaned_complaint']].head()"
   ]
  },
  {
   "cell_type": "markdown",
   "id": "2f767fbd",
   "metadata": {},
   "source": [
    "## ✅  Word Embeddings (GloVe)"
   ]
  },
  {
   "cell_type": "code",
   "execution_count": 12,
   "id": "64643a1c",
   "metadata": {},
   "outputs": [
    {
     "name": "stderr",
     "output_type": "stream",
     "text": [
      "400000it [00:10, 37588.33it/s]\n"
     ]
    }
   ],
   "source": [
    "from tqdm import tqdm\n",
    "\n",
    "# Load GloVe\n",
    "embeddings_index = {}\n",
    "with open('glove.6B.100d.txt', encoding='utf8') as f:\n",
    "    for line in tqdm(f):\n",
    "        values = line.split()\n",
    "        word = values[0]\n",
    "        coefs = np.asarray(values[1:], dtype='float32')\n",
    "        embeddings_index[word] = coefs\n",
    "\n",
    "# Convert sentences to vectors (average of word embeddings)\n",
    "def get_vector(text):\n",
    "    # If text is a list (from preprocessing), join to string\n",
    "    if isinstance(text, list):\n",
    "        words = text\n",
    "    else:\n",
    "        words = str(text).split()\n",
    "    valid_words = [embeddings_index[word] for word in words if word in embeddings_index]\n",
    "    if valid_words:\n",
    "        return np.mean(valid_words, axis=0)\n",
    "    else:\n",
    "        return np.zeros(100)\n",
    "\n",
    "X_vectors = np.vstack(df['cleaned_complaint'].apply(get_vector))"
   ]
  },
  {
   "cell_type": "code",
   "execution_count": 13,
   "id": "ac8b7a48",
   "metadata": {},
   "outputs": [
    {
     "data": {
      "text/plain": [
       "array([[-0.22838917,  0.2154152 ,  0.3818487 , ...,  0.0417259 ,\n",
       "        -0.0474938 ,  0.28921077],\n",
       "       [-0.12514392,  0.01916716,  0.31316626, ..., -0.04264285,\n",
       "         0.13836274,  0.047564  ],\n",
       "       [ 0.07849625, -0.11221699,  0.22532338, ..., -0.1777825 ,\n",
       "         0.20245375,  0.25553748],\n",
       "       ...,\n",
       "       [-0.15494621, -0.16214949,  0.3088657 , ..., -0.16109972,\n",
       "         0.29168314, -0.01569321],\n",
       "       [ 0.087517  , -0.13910322,  0.22592865, ..., -0.04828378,\n",
       "         0.27796096,  0.1452664 ],\n",
       "       [-0.1252505 ,  0.02010383, -0.03510799, ..., -0.02568583,\n",
       "         0.41247347,  0.36072335]], shape=(4500, 100), dtype=float32)"
      ]
     },
     "execution_count": 13,
     "metadata": {},
     "output_type": "execute_result"
    }
   ],
   "source": [
    "X_vectors"
   ]
  },
  {
   "cell_type": "markdown",
   "id": "9d3d7a61",
   "metadata": {},
   "source": [
    "## Model building "
   ]
  },
  {
   "cell_type": "code",
   "execution_count": 14,
   "id": "6dfb0fe5",
   "metadata": {},
   "outputs": [],
   "source": [
    "# label encoding\n",
    "\n",
    "from sklearn.preprocessing import LabelEncoder\n",
    "le = LabelEncoder()\n",
    "y = le.fit_transform(df['Category'])"
   ]
  },
  {
   "cell_type": "code",
   "execution_count": 15,
   "id": "baff472a",
   "metadata": {},
   "outputs": [],
   "source": [
    "# Train-Test Split:\n",
    "\n",
    "from sklearn.model_selection import train_test_split\n",
    "X_train, X_test, y_train, y_test = train_test_split(X_vectors, y, test_size=0.2, random_state=42)"
   ]
  },
  {
   "cell_type": "code",
   "execution_count": 29,
   "id": "212fa3a5",
   "metadata": {},
   "outputs": [
    {
     "data": {
      "image/png": "[encoded data removed]",
      "text/plain": [
       "<Figure size 1200x500 with 2 Axes>"
      ]
     },
     "metadata": {},
     "output_type": "display_data"
    }
   ],
   "source": [
    "# Feedforward NN (PyTorch):\n",
    "\n",
    "import torch\n",
    "import torch.nn as nn\n",
    "import torch.optim as optim\n",
    "\n",
    "class FeedForwardNN(nn.Module):\n",
    "    def __init__(self, input_dim, hidden_dim, output_dim):\n",
    "        super(FeedForwardNN, self).__init__()\n",
    "        self.fc1 = nn.Linear(input_dim, hidden_dim)\n",
    "        self.tanh = nn.Tanh()\n",
    "        self.fc2 = nn.Linear(hidden_dim, output_dim)\n",
    "\n",
    "    def forward(self, x):\n",
    "        x = self.fc1(x)\n",
    "        x = self.tanh(x)\n",
    "        return self.fc2(x)\n",
    "\n",
    "# Model setup\n",
    "input_dim =100\n",
    "hidden_dim = 64\n",
    "output_dim = len(set(y))\n",
    "model = FeedForwardNN(input_dim, hidden_dim, output_dim)\n",
    "\n",
    "criterion = nn.CrossEntropyLoss()\n",
    "optimizer = optim.Adagrad(model.parameters(),lr_decay=0.0001)\n",
    "\n",
    "X_train_tensor = torch.tensor(X_train, dtype=torch.float32)\n",
    "y_train_tensor = torch.tensor(y_train, dtype=torch.long)\n",
    "X_test_tensor = torch.tensor(X_test, dtype=torch.float32)\n",
    "\n",
    "# Track loss and accuracy\n",
    "train_losses = []\n",
    "test_losses = []\n",
    "train_accuracies = []\n",
    "test_accuracies = []\n",
    "\n",
    "num_epochs = 30\n",
    "for epoch in range(num_epochs):\n",
    "    # Training\n",
    "    model.train()\n",
    "    outputs = model(X_train_tensor)\n",
    "    loss = criterion(outputs, y_train_tensor)\n",
    "    train_losses.append(loss.item())\n",
    "    preds_train = outputs.argmax(dim=1)\n",
    "    acc_train = (preds_train == y_train_tensor).float().mean().item()\n",
    "    train_accuracies.append(acc_train)\n",
    "\n",
    "    optimizer.zero_grad()\n",
    "    loss.backward()\n",
    "    optimizer.step()\n",
    "\n",
    "    # Testing\n",
    "    model.eval()\n",
    "    with torch.no_grad():\n",
    "        outputs_test = model(X_test_tensor)\n",
    "        loss_test = criterion(outputs_test, torch.tensor(y_test, dtype=torch.long))\n",
    "        test_losses.append(loss_test.item())\n",
    "        preds_test = outputs_test.argmax(dim=1)\n",
    "        acc_test = (preds_test == torch.tensor(y_test, dtype=torch.long)).float().mean().item()\n",
    "        test_accuracies.append(acc_test)\n",
    "\n",
    "# Plotting\n",
    "plt.figure(figsize=(12,5))\n",
    "plt.subplot(1,2,1)\n",
    "plt.plot(train_losses, label='Train Loss')\n",
    "plt.plot(test_losses, label='Test Loss')\n",
    "plt.xlabel('Epoch')\n",
    "plt.ylabel('Loss')\n",
    "plt.title('Loss vs Epoch')\n",
    "plt.legend()\n",
    "\n",
    "plt.subplot(1,2,2)\n",
    "plt.plot(train_accuracies, label='Train Accuracy')\n",
    "plt.plot(test_accuracies, label='Test Accuracy')\n",
    "plt.xlabel('Epoch')\n",
    "plt.ylabel('Accuracy')\n",
    "plt.title('Accuracy vs Epoch')\n",
    "plt.legend()\n",
    "plt.show()\n"
   ]
  },
  {
   "cell_type": "markdown",
   "id": "01b26e39",
   "metadata": {},
   "source": [
    "## Model Evaluation "
   ]
  },
  {
   "cell_type": "code",
   "execution_count": 30,
   "id": "3c707b6e",
   "metadata": {},
   "outputs": [
    {
     "name": "stdout",
     "output_type": "stream",
     "text": [
      "                            precision    recall  f1-score   support\n",
      "\n",
      "       App Technical Issue       0.86      0.95      0.90        38\n",
      "        Cold Food Delivery       0.91      0.98      0.95        53\n",
      "        Coupon/Offer Issue       0.86      0.86      0.86        49\n",
      "  Delivery Executive Issue       0.88      0.88      0.88        57\n",
      "   Delivery Location Issue       0.81      0.84      0.82        50\n",
      "        Food Quality Issue       0.98      1.00      0.99        47\n",
      " Inconsistent Order Status       0.90      0.80      0.85        45\n",
      "           Incorrect Order       0.92      0.98      0.95        46\n",
      "             Late Delivery       0.80      0.78      0.79        55\n",
      "             Missing Items       1.00      0.91      0.95        58\n",
      " Non-Responsive Restaurant       1.00      0.84      0.91        51\n",
      "        Order Cancellation       0.78      0.85      0.81        46\n",
      "             Payment Issue       0.73      0.88      0.80        42\n",
      "Professional Support Agent       0.74      0.90      0.81        48\n",
      "              Refund Issue       0.91      0.56      0.70        57\n",
      "  Restaurant Service Issue       0.81      1.00      0.90        52\n",
      "            Tracking Issue       0.92      0.76      0.83        46\n",
      "      Unhygienic Packaging       1.00      1.00      1.00        60\n",
      "\n",
      "                  accuracy                           0.87       900\n",
      "                 macro avg       0.88      0.88      0.87       900\n",
      "              weighted avg       0.88      0.87      0.87       900\n",
      "\n"
     ]
    },
    {
     "data": {
      "image/png": "[encoded data removed]",
      "text/plain": [
       "<Figure size 640x480 with 2 Axes>"
      ]
     },
     "metadata": {},
     "output_type": "display_data"
    }
   ],
   "source": [
    "from sklearn.metrics import classification_report, confusion_matrix\n",
    "\n",
    "# Evaluation\n",
    "X_test_tensor = torch.tensor(X_test, dtype=torch.float32)\n",
    "with torch.no_grad():\n",
    "    preds = model(X_test_tensor).argmax(dim=1).numpy()\n",
    "\n",
    "print(classification_report(y_test, preds, target_names=le.classes_))\n",
    "\n",
    "# Confusion matrix\n",
    "cm = confusion_matrix(y_test, preds)\n",
    "sns.heatmap(cm, annot=True, fmt='d', xticklabels=le.classes_, yticklabels=le.classes_)\n",
    "plt.xlabel(\"Predicted\")\n",
    "plt.ylabel(\"Actual\")\n",
    "plt.title(\"Confusion Matrix\")\n",
    "plt.show()\n"
   ]
  },
  {
   "cell_type": "code",
   "execution_count": 31,
   "id": "92ffe255",
   "metadata": {},
   "outputs": [
    {
     "name": "stdout",
     "output_type": "stream",
     "text": [
      "True: Professional Support Agent | Pred: Delivery Executive Issue\n",
      "Text:\n",
      " 0    Wrong food delivered. The order doesn't match ...\n",
      "0    Wrong food delivered. The order doesn't match ...\n",
      "0    Wrong food delivered. The order doesn't match ...\n",
      "0    Wrong food delivered. The order doesn't match ...\n",
      "0    Wrong food delivered. The order doesn't match ...\n",
      "                           ...                        \n",
      "0    Wrong food delivered. The order doesn't match ...\n",
      "0    Wrong food delivered. The order doesn't match ...\n",
      "0    Wrong food delivered. The order doesn't match ...\n",
      "0    Wrong food delivered. The order doesn't match ...\n",
      "0    Wrong food delivered. The order doesn't match ...\n",
      "Name: Complaint_Text, Length: 100, dtype: object\n",
      "---\n",
      "True: Refund Issue | Pred: Order Cancellation\n",
      "Text:\n",
      " 0    Wrong food delivered. The order doesn't match ...\n",
      "0    Wrong food delivered. The order doesn't match ...\n",
      "0    Wrong food delivered. The order doesn't match ...\n",
      "0    Wrong food delivered. The order doesn't match ...\n",
      "0    Wrong food delivered. The order doesn't match ...\n",
      "                           ...                        \n",
      "0    Wrong food delivered. The order doesn't match ...\n",
      "0    Wrong food delivered. The order doesn't match ...\n",
      "0    Wrong food delivered. The order doesn't match ...\n",
      "0    Wrong food delivered. The order doesn't match ...\n",
      "0    Wrong food delivered. The order doesn't match ...\n",
      "Name: Complaint_Text, Length: 100, dtype: object\n",
      "---\n",
      "True: Non-Responsive Restaurant | Pred: Restaurant Service Issue\n",
      "Text:\n",
      " 0    Wrong food delivered. The order doesn't match ...\n",
      "0    Wrong food delivered. The order doesn't match ...\n",
      "0    Wrong food delivered. The order doesn't match ...\n",
      "0    Wrong food delivered. The order doesn't match ...\n",
      "0    Wrong food delivered. The order doesn't match ...\n",
      "                           ...                        \n",
      "0    Wrong food delivered. The order doesn't match ...\n",
      "0    Wrong food delivered. The order doesn't match ...\n",
      "0    Wrong food delivered. The order doesn't match ...\n",
      "0    Wrong food delivered. The order doesn't match ...\n",
      "0    Wrong food delivered. The order doesn't match ...\n",
      "Name: Complaint_Text, Length: 100, dtype: object\n",
      "---\n",
      "True: Inconsistent Order Status | Pred: App Technical Issue\n",
      "Text:\n",
      " 0    Wrong food delivered. The order doesn't match ...\n",
      "0    Wrong food delivered. The order doesn't match ...\n",
      "0    Wrong food delivered. The order doesn't match ...\n",
      "0    Wrong food delivered. The order doesn't match ...\n",
      "0    Wrong food delivered. The order doesn't match ...\n",
      "                           ...                        \n",
      "0    Wrong food delivered. The order doesn't match ...\n",
      "0    Wrong food delivered. The order doesn't match ...\n",
      "0    Wrong food delivered. The order doesn't match ...\n",
      "0    Wrong food delivered. The order doesn't match ...\n",
      "0    Wrong food delivered. The order doesn't match ...\n",
      "Name: Complaint_Text, Length: 100, dtype: object\n",
      "---\n",
      "True: Payment Issue | Pred: Coupon/Offer Issue\n",
      "Text:\n",
      " 0    Wrong food delivered. The order doesn't match ...\n",
      "0    Wrong food delivered. The order doesn't match ...\n",
      "0    Wrong food delivered. The order doesn't match ...\n",
      "0    Wrong food delivered. The order doesn't match ...\n",
      "0    Wrong food delivered. The order doesn't match ...\n",
      "                           ...                        \n",
      "0    Wrong food delivered. The order doesn't match ...\n",
      "0    Wrong food delivered. The order doesn't match ...\n",
      "0    Wrong food delivered. The order doesn't match ...\n",
      "0    Wrong food delivered. The order doesn't match ...\n",
      "0    Wrong food delivered. The order doesn't match ...\n",
      "Name: Complaint_Text, Length: 100, dtype: object\n",
      "---\n"
     ]
    }
   ],
   "source": [
    "misclassified_idx = np.where(preds != y_test)[0]\n",
    "for i in misclassified_idx[:5]:\n",
    "    print(\"True:\", le.classes_[y_test[i]], \"| Pred:\", le.classes_[preds[i]])\n",
    "    print(\"Text:\\n\",df.iloc[X_test[i]]['Complaint_Text'])\n",
    "    print(\"---\")"
   ]
  },
  {
   "cell_type": "markdown",
   "id": "7fd5de15",
   "metadata": {},
   "source": [
    "## SAVING MODEL AND LABEL ENCODER \n",
    "* joblib is a Python library used for saving and loading Python objects efficiently, especially large numpy arrays or scikit-learn models. In your notebook, joblib.dump(le, 'label_encoder.pkl') saves the fitted label encoder to a file, and you can later reload it with joblib.load('label_encoder.pkl').\n",
    "* torch.save is a PyTorch function for saving tensors or model state dictionaries to disk. In your code, torch.save(model.state_dict(), 'feedforward_nn_model.pth') saves the trained neural network's parameters (weights and biases) to a file.\n"
   ]
  },
  {
   "cell_type": "code",
   "execution_count": 32,
   "id": "7226dd5f",
   "metadata": {},
   "outputs": [
    {
     "data": {
      "text/plain": [
       "['label_encoder.pkl']"
      ]
     },
     "execution_count": 32,
     "metadata": {},
     "output_type": "execute_result"
    }
   ],
   "source": [
    "# Save model\n",
    "torch.save(model.state_dict(), 'feedforward_nn_model.pth')\n",
    "\n",
    "# Save label encoder\n",
    "import joblib\n",
    "joblib.dump(le, 'label_encoder.pkl')\n"
   ]
  },
  {
   "cell_type": "markdown",
   "id": "e6a92d3b",
   "metadata": {},
   "source": [
    "## LOADING THE MODEL \n",
    "* When loading a PyTorch model with model.load_state_dict(torch.load('feedforward_nn_model.pth')), you must first create the model architecture in code because:\n",
    "\n",
    "* The .pth file only contains the model's learned parameters (weights and biases), not the model's structure (layers, activation functions, etc.).\n"
   ]
  },
  {
   "cell_type": "code",
   "execution_count": 35,
   "id": "b9fbf865",
   "metadata": {},
   "outputs": [
    {
     "name": "stdout",
     "output_type": "stream",
     "text": [
      "✅ Model loaded successfully!\n"
     ]
    }
   ],
   "source": [
    "# Recreate the model architecture\",\n",
    "model_loaded = FeedForwardNN(input_dim, hidden_dim, output_dim)\n",
    "model_loaded.load_state_dict(torch.load('feedforward_nn_model.pth'))\n",
    "model_loaded.eval()\n",
    "print('✅ Model loaded successfully!')"
   ]
  },
  {
   "cell_type": "code",
   "execution_count": 42,
   "id": "acd4a4fa",
   "metadata": {},
   "outputs": [
    {
     "name": "stdout",
     "output_type": "stream",
     "text": [
      "✅ loaded successfully \n",
      "['App Technical Issue' 'Cold Food Delivery' 'Coupon/Offer Issue'\n",
      " 'Delivery Executive Issue' 'Delivery Location Issue' 'Food Quality Issue'\n",
      " 'Inconsistent Order Status' 'Incorrect Order' 'Late Delivery'\n",
      " 'Missing Items' 'Non-Responsive Restaurant' 'Order Cancellation'\n",
      " 'Payment Issue' 'Professional Support Agent' 'Refund Issue'\n",
      " 'Restaurant Service Issue' 'Tracking Issue' 'Unhygienic Packaging']\n"
     ]
    }
   ],
   "source": [
    "# load label encoder\n",
    "le_loaded=joblib.load('label_encoder.pkl')\n",
    "print(f'✅ loaded successfully \\n{le_loaded.classes_}')"
   ]
  },
  {
   "cell_type": "code",
   "execution_count": null,
   "id": "53b68315",
   "metadata": {},
   "outputs": [],
   "source": []
  }
 ],
 "metadata": {
  "kernelspec": {
   "display_name": "base",
   "language": "python",
   "name": "python3"
  },
  "language_info": {
   "codemirror_mode": {
    "name": "ipython",
    "version": 3
   },
   "file_extension": ".py",
   "mimetype": "text/x-python",
   "name": "python",
   "nbconvert_exporter": "python",
   "pygments_lexer": "ipython3",
   "version": "3.12.9"
  }
 },
 "nbformat": 4,
 "nbformat_minor": 5
}
